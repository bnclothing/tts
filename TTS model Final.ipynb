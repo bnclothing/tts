{
 "cells": [
  {
   "cell_type": "code",
   "execution_count": 2,
   "id": "1e27d521",
   "metadata": {},
   "outputs": [
    {
     "name": "stdout",
     "output_type": "stream",
     "text": [
      "Loading XTTS model...\n",
      " > tts_models/multilingual/multi-dataset/xtts_v2 is already downloaded.\n",
      " > Using model: xtts\n",
      "Model loaded successfully!\n",
      "Detected language: en\n",
      "\n",
      "Generating speech with Ana Florence...\n",
      " > Text splitted to sentences.\n",
      "['Online resources offer a variety of English texts suitable for different proficiency levels.']\n",
      " > Processing time: 13.579684257507324\n",
      " > Real-time factor: 2.0996861177355863\n"
     ]
    },
    {
     "data": {
      "text/plain": [
       "'XTTS_outputs/mohamed_test.wav'"
      ]
     },
     "execution_count": 2,
     "metadata": {},
     "output_type": "execute_result"
    }
   ],
   "source": [
    "import torch\n",
    "from TTS.tts.configs.xtts_config import XttsConfig\n",
    "from TTS.tts.models.xtts import XttsAudioConfig, XttsArgs\n",
    "from TTS.config.shared_configs import BaseDatasetConfig\n",
    "from TTS.config import BaseAudioConfig\n",
    "from TTS.api import TTS\n",
    "import os\n",
    "from langdetect import detect\n",
    "\n",
    "# Allowlist all required XTTS classes\n",
    "torch.serialization.add_safe_globals([\n",
    "    XttsConfig,\n",
    "    XttsAudioConfig,\n",
    "    XttsArgs,\n",
    "    BaseDatasetConfig,\n",
    "    BaseAudioConfig,\n",
    "])\n",
    "\n",
    "# Initialize TTS model\n",
    "print(\"Loading XTTS model...\")\n",
    "tts = TTS(\"tts_models/multilingual/multi-dataset/xtts_v2\", gpu=False)\n",
    "print(\"Model loaded successfully!\")\n",
    "\n",
    "# Define available speakers\n",
    "male_speakers = [\"Marcos Rudaski\", \"Luis Moray\"]\n",
    "female_speakers = [\"Ana Florence\"]\n",
    "\n",
    "# Create output directory\n",
    "os.makedirs(\"XTTS_outputs\", exist_ok=True)\n",
    "\n",
    "# Get text input\n",
    "text = \"Online resources offer a variety of English texts suitable for different proficiency levels.\"\n",
    "# text = \"Je m’appelle Jessica. Je suis une fille, je suis française et j’ai treize ans.\"\n",
    "\n",
    "# Auto-detect language\n",
    "try:\n",
    "    lang_code = detect(text)\n",
    "    lang_map = {\n",
    "        'en': 'en', 'es': 'es', 'fr': 'fr', 'de': 'de', 'it': 'it',\n",
    "        'pt': 'pt', 'pl': 'pl', 'tr': 'tr', 'ru': 'ru', 'nl': 'nl',\n",
    "        'cs': 'cs', 'ar': 'ar', 'zh-cn': 'zh-cn', 'ja': 'ja', 'hu': 'hu', 'ko': 'ko'\n",
    "    }\n",
    "    language = lang_map.get(lang_code, 'en')\n",
    "    print(f\"Detected language: {language}\")\n",
    "except:\n",
    "    language = \"en\"\n",
    "    print(\"Could not detect language, using English as default\")\n",
    "\n",
    "\n",
    "# Get voice preference\n",
    "MaleSpeaker = male_speakers[0]  # for male voice\n",
    "FemaleSpeaker = female_speakers[0]  # for female voice\n",
    "chosen_SPEAKER = FemaleSpeaker  # Change to\n",
    "\n",
    "# Get output filename\n",
    "# output_path = f\"XTTS_outputs/{speaker}.wav\"\n",
    "\n",
    "# Generate speech\n",
    "print(f\"\\nGenerating speech with {FemaleSpeaker}...\")\n",
    "tts.tts_to_file(\n",
    "    text=text,\n",
    "    file_path=\"XTTS_outputs/mohamed_test.wav\",\n",
    "    speaker=chosen_SPEAKER,\n",
    "    language=language,\n",
    "    split_sentences=True,\n",
    "    # speaker_wav = ['My voice simple.wav']\n",
    ")\n"
   ]
  }
 ],
 "metadata": {
  "kernelspec": {
   "display_name": "Python 3",
   "language": "python",
   "name": "python3"
  },
  "language_info": {
   "codemirror_mode": {
    "name": "ipython",
    "version": 3
   },
   "file_extension": ".py",
   "mimetype": "text/x-python",
   "name": "python",
   "nbconvert_exporter": "python",
   "pygments_lexer": "ipython3",
   "version": "3.10.11"
  }
 },
 "nbformat": 4,
 "nbformat_minor": 5
}
